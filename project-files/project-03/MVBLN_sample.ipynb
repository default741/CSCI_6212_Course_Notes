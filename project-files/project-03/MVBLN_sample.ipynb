{
 "cells": [
  {
   "cell_type": "code",
   "execution_count": 55,
   "id": "0d0c54d9-f57e-4d34-a5dc-b408fbf3f2b3",
   "metadata": {},
   "outputs": [],
   "source": [
    "import math\n",
    "import random\n",
    "import timeit\n",
    "from matplotlib import pyplot as plt\n",
    "import numpy as np\n",
    "from typing import Iterable\n",
    "import pandas as pd\n",
    "\n",
    "from tqdm import tqdm\n",
    "\n",
    "np.random.seed(42)\n",
    "\n",
    "# return the highest idx on maximum\n",
    "def get_highest_max_ind(lis):\n",
    "    m = max(lis)\n",
    "    ind = [i for i in range(len(lis)) if lis[i]==m]\n",
    "    return ind[-1]\n",
    "\n",
    "\n",
    "def maximum_value_limited_neighbors(input_list: Iterable[int], k: int = 1) -> int:\n",
    "\n",
    "    \"\"\"Given a List of numbers, Finds the maximum value achievable with only k adjecent 1s.\n",
    "\n",
    "    Args:\n",
    "        input_list (Iterable[int]): Input List with integers\n",
    "        k (int, optional): Atmost adjecent 1s. Defaults to 1.\n",
    "\n",
    "    Returns:\n",
    "        int: Maximum Value.\n",
    "    \"\"\"\n",
    "\n",
    "    MVLN = np.zeros((k + 1, len(input_list)))\n",
    "\n",
    "    MVLN[0][0] = input_list[0]\n",
    "    MVLN[0][1] = max(input_list[1], MVLN[0][0])\n",
    "    \n",
    "    # for backtracking the input_listay for base case solution\n",
    "    prev = [0]*len(input_list)\n",
    "    curr = [0]*len(input_list)\n",
    "    \n",
    "    \n",
    "    # b_track input_listay for all values for one k and for each position \n",
    "    b_track = []\n",
    "\n",
    "    # base case for k = 0 and first two elements which is maximum\n",
    "    base_0_1 = [input_list[1], MVLN[0][0]]\n",
    "    MVLN[0][1] = max(base_0_1)\n",
    "\n",
    "    # max index\n",
    "    ind = base_0_1.index(max(base_0_1))\n",
    "\n",
    "    # updating the prev and curr prev is for b input_listay for n-1 elements and curr is including n elements\n",
    "    if(ind == 0):\n",
    "        prev[0] = 1\n",
    "        curr[1] = 1\n",
    "    else:\n",
    "        prev[1] = 1\n",
    "        curr[0] = 1\n",
    "    \n",
    "    # appending to b_track to use it for next k \n",
    "    b_track.append([0]*len(input_list))\n",
    "\n",
    "    b_track[0][0] = 1\n",
    "    b_track.append(curr)\n",
    "\n",
    "    \n",
    "\n",
    "\n",
    "\n",
    "    # Base Case for k = 0\n",
    "    for i in range(2, len(input_list)):\n",
    "\n",
    "        # checking whether max value for element i is same as i-1 excluding i or sum till i-2 inclucing i\n",
    "        chk = [MVLN[0][i-1], MVLN[0][i-2] + input_list[i]]\n",
    "        MVLN[0][i] = max(chk)\n",
    "\n",
    "        # index of the maximum of the two max values if two are having same numbers\n",
    "        ind = get_highest_max_ind(chk)\n",
    "\n",
    "        if(ind == 0):\n",
    "            prev = curr.copy()\n",
    "        else:\n",
    "            prev,curr = curr, prev\n",
    "            curr[i] = 1\n",
    "        # appending for each input i the b input_listay\n",
    "        b_track.append(curr)\n",
    "\n",
    "    # b input_listay \n",
    "    b = np.zeros((k+1,len(input_list)))\n",
    "    \n",
    "\n",
    "    # For k >= 1\n",
    "    for j in range(k):\n",
    "\n",
    "        MVLN[j + 1][0] = input_list[0]\n",
    "        MVLN[j + 1][1] = input_list[1] + input_list[0]\n",
    "        b[j+1][0:2]    = [1,1]\n",
    "\n",
    "    b[0] = curr\n",
    "    \n",
    "    for j in range(1, k + 1):\n",
    "\n",
    "        # initializing the b_track_prev which is the b_track values for k-1 and we need that in updating the values of k\n",
    "        b_track_prev = b_track.copy()\n",
    "        b_track = []\n",
    "        b_track.append([0]*len(input_list))\n",
    "\n",
    "        # for k>=1 the values we can always include first two value to get the maximum if numbers are positive\n",
    "        b_track[0][0:2] = [1,1]\n",
    "\n",
    "\n",
    "        for i in range(2, len(input_list)):\n",
    "\n",
    "            # three conditions\n",
    "            chk = [MVLN[j][i - 1], MVLN[j - 1][i - 1] +\n",
    "                             input_list[i], MVLN[j][i - 2] + input_list[i]]\n",
    "            \n",
    "            MVLN[j][i] = max(chk)\n",
    "\n",
    "            # the b input_listay will be same as the \n",
    "            ind = get_highest_max_ind(chk)\n",
    "            if(ind ==0):\n",
    "\n",
    "                b[j][:i] = b[j][:i]\n",
    "                b[j][i]  = 0\n",
    "\n",
    "            elif(ind ==1):\n",
    "\n",
    "                b[j][:i] = b_track_prev[i-1][:i]\n",
    "                b[j][i]  = 1\n",
    "\n",
    "            else:\n",
    "\n",
    "                b[j][:i-1] = b[j][:i-1]\n",
    "                b[j][i-1]  = 0\n",
    "                b[j][i]    = 1\n",
    "            b_track.append(b[j])\n",
    "\n",
    "    return MVLN[-1][-1], b_track[-1]\n",
    "\n"
   ]
  },
  {
   "cell_type": "code",
   "execution_count": 56,
   "id": "5e0a57c0-0d7a-455a-af42-b0a48e2424a7",
   "metadata": {},
   "outputs": [],
   "source": [
    "#sample 1"
   ]
  },
  {
   "cell_type": "code",
   "execution_count": 57,
   "id": "39065389-fe50-4365-85b3-47d109512d7e",
   "metadata": {},
   "outputs": [],
   "source": [
    "arr1 = [100, 300, 400, 50] \n",
    "k    = 1"
   ]
  },
  {
   "cell_type": "code",
   "execution_count": 58,
   "id": "e489f47d-a201-4919-b869-fdddfbb9f2cf",
   "metadata": {},
   "outputs": [],
   "source": [
    "val1, b_out1 =maximum_value_limited_neighbors(arr1, k)"
   ]
  },
  {
   "cell_type": "code",
   "execution_count": 59,
   "id": "74502b80-0903-4ee6-bfda-b7920fcb4c23",
   "metadata": {
    "scrolled": true
   },
   "outputs": [
    {
     "name": "stdout",
     "output_type": "stream",
     "text": [
      "MAXIMUM VALUE BUT LIMITED NEIGHBORS SAMPLE 1 700.0\n"
     ]
    }
   ],
   "source": [
    "print(\"MAXIMUM VALUE BUT LIMITED NEIGHBORS SAMPLE 1\", val1)"
   ]
  },
  {
   "cell_type": "code",
   "execution_count": 60,
   "id": "8098605f-85fa-49f7-98b7-989e8e28ea9f",
   "metadata": {},
   "outputs": [
    {
     "data": {
      "text/plain": [
       "array([0., 1., 1., 0.])"
      ]
     },
     "execution_count": 60,
     "metadata": {},
     "output_type": "execute_result"
    }
   ],
   "source": [
    "b_out1"
   ]
  },
  {
   "cell_type": "code",
   "execution_count": 61,
   "id": "a9339069-79f8-483e-9cd5-c35d6fd5f45b",
   "metadata": {},
   "outputs": [
    {
     "name": "stdout",
     "output_type": "stream",
     "text": [
      "MAXIMUM VALUE BUT LIMITED NEIGHBORS SAMPLE 1 700.0\n"
     ]
    }
   ],
   "source": [
    "print(\"MAXIMUM VALUE BUT LIMITED NEIGHBORS SAMPLE 1\", val1)"
   ]
  },
  {
   "cell_type": "code",
   "execution_count": 62,
   "id": "4687d9eb-bd67-4727-bd7d-e75f93b772b5",
   "metadata": {},
   "outputs": [],
   "source": [
    "# sample 2"
   ]
  },
  {
   "cell_type": "code",
   "execution_count": 63,
   "id": "8c7ccf42-5c3c-4f12-a413-883e4de5d248",
   "metadata": {},
   "outputs": [],
   "source": [
    "arr2 = [10, 100, 300, 400, 50, 4500, 200, 30, 90]\n",
    "k    = 2"
   ]
  },
  {
   "cell_type": "code",
   "execution_count": 64,
   "id": "68b4dcb0-1df7-4ba0-9db2-07b31c6468b1",
   "metadata": {
    "scrolled": true
   },
   "outputs": [],
   "source": [
    "val, b_out =maximum_value_limited_neighbors(arr, 2)"
   ]
  },
  {
   "cell_type": "code",
   "execution_count": 65,
   "id": "61cd89c9-9bf7-4878-a9c4-b4cc5b127801",
   "metadata": {
    "scrolled": true
   },
   "outputs": [
    {
     "name": "stdout",
     "output_type": "stream",
     "text": [
      "MAXIMUM VALUE BUT LIMITED NEIGHBORS SAMPLE 2 5500.0\n"
     ]
    }
   ],
   "source": [
    "print(\"MAXIMUM VALUE BUT LIMITED NEIGHBORS SAMPLE 2\", val)"
   ]
  },
  {
   "cell_type": "code",
   "execution_count": 66,
   "id": "540e65e2-1ab4-43ae-8434-5c92d7c8ff4c",
   "metadata": {},
   "outputs": [
    {
     "name": "stdout",
     "output_type": "stream",
     "text": [
      "b array [1. 0. 1. 1. 0. 1. 1. 0. 1.]\n"
     ]
    }
   ],
   "source": [
    "print(\"b array\", b_out)"
   ]
  }
 ],
 "metadata": {
  "kernelspec": {
   "display_name": "Python 3 (ipykernel)",
   "language": "python",
   "name": "python3"
  },
  "language_info": {
   "codemirror_mode": {
    "name": "ipython",
    "version": 3
   },
   "file_extension": ".py",
   "mimetype": "text/x-python",
   "name": "python",
   "nbconvert_exporter": "python",
   "pygments_lexer": "ipython3",
   "version": "3.9.5"
  }
 },
 "nbformat": 4,
 "nbformat_minor": 5
}
