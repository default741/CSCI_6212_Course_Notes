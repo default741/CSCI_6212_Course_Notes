{
 "cells": [
  {
   "cell_type": "code",
   "execution_count": 1,
   "id": "8fb21335-c0b6-4329-982f-e9c38a8462d6",
   "metadata": {},
   "outputs": [],
   "source": [
    "import numpy as np"
   ]
  },
  {
   "cell_type": "code",
   "execution_count": 2,
   "id": "f1a31165-3bda-40cb-9eb4-92e04930c9c4",
   "metadata": {},
   "outputs": [],
   "source": [
    "arr = [10, 100, 300, 400, 50, 4500, 200, 30, 90]\n",
    "\n",
    "k=3"
   ]
  },
  {
   "cell_type": "code",
   "execution_count": 3,
   "id": "3f33ab19-7668-4fc4-9280-b85847deaa70",
   "metadata": {},
   "outputs": [],
   "source": [
    "MVBLN = np.zeros((k+1,len(arr)))"
   ]
  },
  {
   "cell_type": "code",
   "execution_count": 4,
   "id": "871b734b-a69c-4ed5-be3d-96b3298befb3",
   "metadata": {},
   "outputs": [
    {
     "data": {
      "text/plain": [
       "array([[0., 0., 0., 0., 0., 0., 0., 0., 0.],\n",
       "       [0., 0., 0., 0., 0., 0., 0., 0., 0.],\n",
       "       [0., 0., 0., 0., 0., 0., 0., 0., 0.],\n",
       "       [0., 0., 0., 0., 0., 0., 0., 0., 0.]])"
      ]
     },
     "execution_count": 4,
     "metadata": {},
     "output_type": "execute_result"
    }
   ],
   "source": [
    "MVBLN"
   ]
  },
  {
   "cell_type": "code",
   "execution_count": 5,
   "id": "bd254e69-18c0-4712-9c61-43190ecc9554",
   "metadata": {},
   "outputs": [],
   "source": [
    "MVBLN[0][0] = arr[0]\n",
    "MVBLN[0][1] = max(arr[1], MVBLN[0][0])\n",
    "for i in range(2,len(arr)):\n",
    "    MVBLN[0][i] = max(MVBLN[0][i-1], MVBLN[0][i-2]+arr[i])"
   ]
  },
  {
   "cell_type": "code",
   "execution_count": 6,
   "id": "af1ec78a-808d-455f-b113-2582b7a298ea",
   "metadata": {},
   "outputs": [
    {
     "data": {
      "text/plain": [
       "array([[  10.,  100.,  310.,  500.,  500., 5000., 5000., 5030., 5090.],\n",
       "       [   0.,    0.,    0.,    0.,    0.,    0.,    0.,    0.,    0.],\n",
       "       [   0.,    0.,    0.,    0.,    0.,    0.,    0.,    0.,    0.],\n",
       "       [   0.,    0.,    0.,    0.,    0.,    0.,    0.,    0.,    0.]])"
      ]
     },
     "execution_count": 6,
     "metadata": {},
     "output_type": "execute_result"
    }
   ],
   "source": [
    "MVBLN"
   ]
  },
  {
   "cell_type": "code",
   "execution_count": 7,
   "id": "83304264-72ce-4e04-a725-9e1111157aed",
   "metadata": {},
   "outputs": [],
   "source": [
    "for m in range(k):\n",
    "    MVBLN[m+1][0] = arr[0]\n",
    "    MVBLN[m+1][1] = arr[1]+arr[0]"
   ]
  },
  {
   "cell_type": "code",
   "execution_count": 8,
   "id": "dab4c6c0-7990-424a-aa36-cfecb5823eca",
   "metadata": {},
   "outputs": [
    {
     "data": {
      "text/plain": [
       "array([[  10.,  100.,  310.,  500.,  500., 5000., 5000., 5030., 5090.],\n",
       "       [  10.,  110.,    0.,    0.,    0.,    0.,    0.,    0.,    0.],\n",
       "       [  10.,  110.,    0.,    0.,    0.,    0.,    0.,    0.,    0.],\n",
       "       [  10.,  110.,    0.,    0.,    0.,    0.,    0.,    0.,    0.]])"
      ]
     },
     "execution_count": 8,
     "metadata": {},
     "output_type": "execute_result"
    }
   ],
   "source": [
    "MVBLN"
   ]
  },
  {
   "cell_type": "code",
   "execution_count": 9,
   "id": "c542f132-d70f-46d0-bb2a-249c2d74b3f0",
   "metadata": {},
   "outputs": [],
   "source": [
    "for j in range(1,k+1):\n",
    "\n",
    "    for m in range(2,len(arr)):\n",
    "        MVBLN[j][m] = max(MVBLN[j][m-1], MVBLN[j-1][m-1]+arr[m], MVBLN[j][m-2]+arr[m])"
   ]
  },
  {
   "cell_type": "code",
   "execution_count": 10,
   "id": "557b8bb5-4070-427c-ac39-ffedaa707950",
   "metadata": {},
   "outputs": [
    {
     "data": {
      "text/plain": [
       "array([[  10.,  100.,  310.,  500.,  500., 5000., 5000., 5030., 5090.],\n",
       "       [  10.,  110.,  400.,  710.,  710., 5210., 5210., 5240., 5300.],\n",
       "       [  10.,  110.,  410.,  800.,  800., 5300., 5410., 5410., 5500.],\n",
       "       [  10.,  110.,  410.,  810.,  850., 5310., 5500., 5500., 5590.]])"
      ]
     },
     "execution_count": 10,
     "metadata": {},
     "output_type": "execute_result"
    }
   ],
   "source": [
    "MVBLN"
   ]
  },
  {
   "cell_type": "code",
   "execution_count": null,
   "id": "94016b14-531e-4f5f-9742-6342161fc66f",
   "metadata": {},
   "outputs": [],
   "source": []
  },
  {
   "cell_type": "code",
   "execution_count": null,
   "id": "38db1826-0bd5-4e64-8fa4-6fc0f797efdd",
   "metadata": {},
   "outputs": [],
   "source": []
  }
 ],
 "metadata": {
  "kernelspec": {
   "display_name": "Python 3 (ipykernel)",
   "language": "python",
   "name": "python3"
  },
  "language_info": {
   "codemirror_mode": {
    "name": "ipython",
    "version": 3
   },
   "file_extension": ".py",
   "mimetype": "text/x-python",
   "name": "python",
   "nbconvert_exporter": "python",
   "pygments_lexer": "ipython3",
   "version": "3.11.4"
  }
 },
 "nbformat": 4,
 "nbformat_minor": 5
}
